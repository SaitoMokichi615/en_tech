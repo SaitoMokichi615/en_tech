{
  "nbformat": 4,
  "nbformat_minor": 0,
  "metadata": {
    "colab": {
      "name": "MultiArmedBandit.ipynb",
      "version": "0.3.2",
      "provenance": [],
      "collapsed_sections": []
    },
    "kernelspec": {
      "name": "python3",
      "display_name": "Python 3"
    }
  },
  "cells": [
    {
      "cell_type": "markdown",
      "metadata": {
        "id": "G4zgNmhq-0VK",
        "colab_type": "text"
      },
      "source": [
        "# **N腕バンディット問題**\n",
        "\n",
        "事前に当たりの確率が設定されたスロットマシンがN台並んでいる。\n",
        "ただし、**ユーザ（エージェント）はその確率を事前に知らない。**\n",
        "\n",
        "エージェントは、1回の試行で1つのスロットマシン i を選んで引く。\n",
        "\n",
        "スロットマシンを1回引くと、事前に定義された確率p_iに基づき、「当たり(=1)」または「外れ(=0)」という形で**報酬**が与えられる(ベルヌーイ試行)。\n",
        "\n",
        "エージェントは、試行回数あたりの平均報酬を最大化したい。砕けた言い方をすると、スロットで出来るだけ多くの当たりを引きたい（しかし、前述のとおり、エージェントは各スロットが当たりを出す確率を知らない）。"
      ]
    },
    {
      "cell_type": "code",
      "metadata": {
        "id": "Uf5zduZf99kD",
        "colab_type": "code",
        "outputId": "2e61d550-60a8-43ef-9008-481598adfbcc",
        "colab": {
          "base_uri": "https://localhost:8080/",
          "height": 34
        }
      },
      "source": [
        "import random\n",
        "import numpy as np\n",
        "\n",
        "random.seed(0) #seedを指定して乱数を取得\n",
        "\n",
        "#0から4までの5つのスロットのうち、ランダムで選択した1つを番号で返す\n",
        "def random_select():\n",
        "  \n",
        "  \n",
        "  slot_num = random.randint(0,4)\n",
        "  return slot_num\n",
        "\n",
        "print(random_select())\n",
        "  "
      ],
      "execution_count": 3,
      "outputs": [
        {
          "output_type": "stream",
          "text": [
            "3\n"
          ],
          "name": "stdout"
        }
      ]
    },
    {
      "cell_type": "markdown",
      "metadata": {
        "id": "FW8C8o-uFacJ",
        "colab_type": "text"
      },
      "source": [
        "# **環境**\n",
        "N腕バンディット問題では、（強化学習における）**環境**とは次のことを意味する。\n",
        "\n",
        "**エージェントがスロットを引き、スロットが事前に設定された確率に基づき、報酬（「当たり」または「外れ」）を出すという、プロセス**である。"
      ]
    },
    {
      "cell_type": "code",
      "metadata": {
        "id": "E8s1PN5T-2wH",
        "colab_type": "code",
        "outputId": "d7318afc-e4da-43df-d816-3fb9872b346f",
        "colab": {
          "base_uri": "https://localhost:8080/",
          "height": 34
        }
      },
      "source": [
        "#乱数のseedを固定する\n",
        "np.random.seed(0)\n",
        "\n",
        "#指定したスロットを1回引き結果を返す(環境)\n",
        "def environments(band_number):\n",
        "  \n",
        "  #各スロットが当たりを出す確率を配列に格納\n",
        "  coins_p = np.array([0.3, 0.4, 0.5, 0.6, 0.7])\n",
        "  \n",
        "  #各スロットを1回引いた結果を計算(結果は二項分布に従う)\n",
        "  results = np.random.binomial(1, coins_p)\n",
        "  #print(results)\n",
        "  \n",
        "  #引数で指定したスロットの結果を返す\n",
        "  result = results[band_number]\n",
        "  return result\n",
        "\n",
        "print(environments(random_select()))"
      ],
      "execution_count": 4,
      "outputs": [
        {
          "output_type": "stream",
          "text": [
            "1\n"
          ],
          "name": "stdout"
        }
      ]
    },
    {
      "cell_type": "markdown",
      "metadata": {
        "id": "JyeKWTQVVN3W",
        "colab_type": "text"
      },
      "source": [
        "# **報酬**\n",
        "\n",
        "N腕バンディット問題では、（強化学習における）**報酬**とは次のことを意味する。\n",
        "\n",
        "**スロットから得られる結果（「当たり」または「外れ」）そのもの**である。"
      ]
    },
    {
      "cell_type": "code",
      "metadata": {
        "id": "wXYjqxqrVvGo",
        "colab_type": "code",
        "colab": {}
      },
      "source": [
        "times = 10000  #総試行回数\n",
        "record = np.zeros(times) #各試行における報酬\n",
        "\n",
        "#各スロットの報酬に関するデータテーブル、属性は次の通り\n",
        "#[スロット番号, 選択回数, 報酬合計, 報酬合計/選択回数]\n",
        "results = [[0,0,0,0], \n",
        "           [1,0,0,0],\n",
        "           [2,0,0,0],\n",
        "           [3,0,0,0],\n",
        "           [4,0,0,0]]\n",
        "\n",
        "\n",
        "#ある試行回数目におけるスロットの結果を返す（報酬）\n",
        "def reward(record, results, slot_num, time):\n",
        "  \n",
        "  #指定したスロットの結果を取得する\n",
        "  result = environments(slot_num)\n",
        "  \n",
        "  #指定した試行回数目における報酬を更新\n",
        "  record[time] = result\n",
        "  \n",
        "  #指定したスロットの報酬に関するデータテーブルを更新\n",
        "  results[slot_num][1] += 1      #選択回数を1増やす\n",
        "  results[slot_num][2] += result #報酬合計を更新\n",
        "  results[slot_num][3] = results[slot_num][2]/results[slot_num][1] #報酬合計/選択回数を更新\n",
        "  \n",
        "  return results, record"
      ],
      "execution_count": 0,
      "outputs": []
    },
    {
      "cell_type": "markdown",
      "metadata": {
        "id": "-Sg4uRrmkLkE",
        "colab_type": "text"
      },
      "source": [
        "# 方策その1:greedy手法\n",
        "はじめのうちは、各スロットをn回ずつ選ぶ（スロットの確率を探索）。\n",
        "\n",
        "探索によって得られた情報から、最も期待値の大きい（「当たり」の確率が大きい）スロット選択する。"
      ]
    },
    {
      "cell_type": "code",
      "metadata": {
        "id": "or30QOTPhxJI",
        "colab_type": "code",
        "colab": {}
      },
      "source": [
        "#greedy手法でスロットを選択\n",
        "def greedy(results, n):\n",
        "    # 試行回数がnより少ないマシンがある場合、slot_numをそのマシンの腕番号にする \n",
        "    slot_num = None\n",
        "    for i, d in enumerate(results): #スロット番号とデータテーブルを列挙\n",
        "        if d[1]<n:\n",
        "            slot_num = i\n",
        "            break\n",
        "        \n",
        "    # どのマシンの試行回数もnより大きい場合、slot_numを報酬の期待値の高いものにする\n",
        "    if slot_num == None:\n",
        "        slot_num = np.array([row[3] for row in results]).argmax() #データテーブル（行列）の三列目の最大要素を取得（最大の報酬平均）\n",
        "        \n",
        "    return slot_num"
      ],
      "execution_count": 0,
      "outputs": []
    },
    {
      "cell_type": "markdown",
      "metadata": {
        "id": "Bz6CqwOnMgh_",
        "colab_type": "text"
      },
      "source": [
        "#方策その2:ε-greedy手法\n",
        "\n",
        "確率εで、ランダムにスロットを選択する。\n",
        "\n",
        "確率1-εで、最も期待値の大きいスロットを選択する。"
      ]
    },
    {
      "cell_type": "code",
      "metadata": {
        "id": "AjN9LPa4MoJ5",
        "colab_type": "code",
        "colab": {}
      },
      "source": [
        "#ε-greedy手法でスロットを選択\n",
        "def epsilon_greedy(results, epsilon):\n",
        "  \n",
        "  # 確率εで全てのマシンの中からランダムに選択する\n",
        "    if np.random.binomial(1, epsilon):\n",
        "        slot_num = np.random.randint(0,4)\n",
        "        \n",
        "    # 確率1-εでn=0のgreedy手法を実行\n",
        "    else:\n",
        "        slot_num = None\n",
        "        for i, d in enumerate(results):\n",
        "          \n",
        "            if d[1] == 0:#一度も選んでいないスロットがあれば、そのスロットを選ぶ\n",
        "                slot_num = i\n",
        "                break\n",
        "\n",
        "        if slot_num == None:#どのスロットも1度以上選んでいるならば、報酬の期待値が最大のスロットを選ぶ\n",
        "            slot_num = np.array([row[3] for row in results]).argmax()\n",
        "            \n",
        "    return slot_num\n",
        "  "
      ],
      "execution_count": 0,
      "outputs": []
    },
    {
      "cell_type": "markdown",
      "metadata": {
        "id": "lVXemQijmDGr",
        "colab_type": "text"
      },
      "source": [
        "# 平均報酬の推移"
      ]
    },
    {
      "cell_type": "code",
      "metadata": {
        "id": "vaz2vE31hptb",
        "colab_type": "code",
        "outputId": "adaa05e2-ebb6-418d-92b6-804e94453019",
        "colab": {
          "base_uri": "https://localhost:8080/",
          "height": 283
        }
      },
      "source": [
        "#各試行回数における報酬を取得し、データテーブルを更新\n",
        "import matplotlib.pyplot as plt\n",
        "%matplotlib inline\n",
        "\n",
        "n = 100 #greedy手法における探索回数\n",
        "epsilons = [0.01, 0.1, 0.2] #ε-greedy手法における確率（比較のため3つ定義）\n",
        "\n",
        "#greedy手法\n",
        "#for time in range(0, times):\n",
        "  #slot_num = random_select()   #ランダムでスロットを選択するという方策\n",
        "  #slot_num = greedy(results, n) #greedy手法でスロットを選択するという方策\n",
        "  #results, record = reward(record, results, slot_num, time)\n",
        "#print(results)\n",
        "\n",
        "#ε-greedy手法\n",
        "for epsilon in epsilons:\n",
        "  for time in range(0, times):\n",
        "    slot_num = epsilon_greedy(results, epsilon)\n",
        "    results, record = reward(record, results, slot_num, time)\n",
        "  plt.plot(np.cumsum(record) / np.arange(1, record.size + 1), label =\"epsilon = %s\" %str(epsilon))\n",
        "      \n",
        "# recordを用いて平均報酬の推移をプロット\n",
        "plt.legend()\n",
        "plt.xlabel(\"Num of Trial\")\n",
        "plt.ylabel(\"Avarege of Reward\")\n",
        "plt.ylim(0,1) #y軸の範囲\n",
        "plt.show()  "
      ],
      "execution_count": 15,
      "outputs": [
        {
          "output_type": "display_data",
          "data": {
            "image/png": "[encoded data removed]",
            "text/plain": [
              "<Figure size 432x288 with 1 Axes>"
            ]
          },
          "metadata": {
            "tags": []
          }
        }
      ]
    }
  ]
}